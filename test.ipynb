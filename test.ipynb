{
 "cells": [
  {
   "cell_type": "markdown",
   "metadata": {},
   "source": [
    "## Sample的正确性"
   ]
  },
  {
   "cell_type": "code",
   "execution_count": 69,
   "metadata": {},
   "outputs": [
    {
     "name": "stdout",
     "output_type": "stream",
     "text": [
      "tensor([[[0.9808, 1.2018, 0.1419],\n",
      "         [0.6462, 0.2772, 1.2685],\n",
      "         [0.5887, 0.9806, 1.3689],\n",
      "         ...,\n",
      "         [0.0052, 0.0019, 0.8817],\n",
      "         [1.4459, 1.3723, 0.2514],\n",
      "         [0.1806, 0.4077, 1.1030]],\n",
      "\n",
      "        [[0.1969, 0.5100, 0.0463],\n",
      "         [0.5838, 0.8219, 0.6362],\n",
      "         [0.8584, 0.3174, 0.2496],\n",
      "         ...,\n",
      "         [1.2409, 0.9040, 0.0174],\n",
      "         [1.1769, 0.3627, 0.6026],\n",
      "         [1.2115, 1.0042, 0.0306]],\n",
      "\n",
      "        [[0.2792, 0.1853, 0.7397],\n",
      "         [0.8845, 0.2179, 0.0816],\n",
      "         [0.4434, 0.7330, 0.2593],\n",
      "         ...,\n",
      "         [0.6133, 0.1997, 0.2999],\n",
      "         [0.0504, 1.3812, 1.7505],\n",
      "         [0.8356, 0.7195, 0.5324]],\n",
      "\n",
      "        ...,\n",
      "\n",
      "        [[1.0681, 0.1315, 0.0119],\n",
      "         [0.1957, 0.5716, 1.3428],\n",
      "         [0.0333, 0.4470, 0.2059],\n",
      "         ...,\n",
      "         [0.1474, 0.0571, 0.1943],\n",
      "         [0.3223, 1.1922, 0.5203],\n",
      "         [0.1746, 0.2385, 0.3128]],\n",
      "\n",
      "        [[0.1016, 0.1008, 0.0243],\n",
      "         [0.4121, 1.0278, 0.0160],\n",
      "         [1.3118, 0.5637, 1.3569],\n",
      "         ...,\n",
      "         [0.4269, 0.5950, 0.1012],\n",
      "         [0.0428, 0.4184, 0.4101],\n",
      "         [1.6984, 0.4761, 0.1118]],\n",
      "\n",
      "        [[0.3110, 0.2794, 0.1331],\n",
      "         [0.7427, 0.2030, 0.4032],\n",
      "         [1.0128, 0.2885, 1.4188],\n",
      "         ...,\n",
      "         [0.1013, 0.6179, 0.1208],\n",
      "         [0.3191, 0.2018, 0.2976],\n",
      "         [1.8742, 0.4733, 0.2429]]])\n"
     ]
    }
   ],
   "source": [
    "from sampler import Sampler\n",
    "\n",
    "sampler=Sampler(20,2,0.5)\n",
    "pos_batch, filted_batch_size = sampler.batch_sample(30)\n",
    "print(pos_batch)\n",
    "\n",
    "## 画3D散点图\n",
    "import matplotlib.pyplot as plt\n",
    "from mpl_toolkits import mplot3d\n",
    "pos_batch_flatten=pos_batch.view(-1,3)\n",
    "x=pos_batch_flatten[:,0]\n",
    "y=pos_batch_flatten[:,1]\n",
    "z=pos_batch_flatten[:,2]\n",
    "fig = plt.figure()\n",
    "ax = plt.axes(projection='3d')\n",
    "ax.scatter3D(x, y, z, c='green', marker='o')\n",
    "plt.show()"
   ]
  },
  {
   "cell_type": "code",
   "execution_count": 66,
   "metadata": {},
   "outputs": [
    {
     "name": "stdout",
     "output_type": "stream",
     "text": [
      "tensor([[[ 3.7363e-01, -9.2444e-01, -4.1346e-04],\n",
      "         [ 6.5138e-01,  3.9272e-02, -6.1228e-01],\n",
      "         [ 2.5133e-01, -6.5546e-02,  9.4001e-02],\n",
      "         ...,\n",
      "         [-2.3563e-02,  5.3360e-01,  8.7474e-02],\n",
      "         [ 2.8299e-01,  5.4165e-01, -4.5922e-01],\n",
      "         [ 5.0018e-03,  9.7506e-01,  8.1057e-01]],\n",
      "\n",
      "        [[ 3.7274e-01, -1.3709e-01, -4.2445e-01],\n",
      "         [-5.1922e-01,  1.0173e+00, -3.3092e-01],\n",
      "         [ 1.0876e-01, -5.2103e-01,  2.6296e-01],\n",
      "         ...,\n",
      "         [-3.4881e-02,  1.9256e-01, -4.7346e-01],\n",
      "         [ 1.6053e-02,  1.5298e+00, -1.4730e-04],\n",
      "         [-1.2874e+00, -2.9585e-01,  6.8290e-02]],\n",
      "\n",
      "        [[-3.1859e-01,  3.7630e-01,  1.5188e+00],\n",
      "         [ 2.3542e-01, -3.2952e-01,  1.1852e-01],\n",
      "         [-2.0353e-01, -1.7744e-01,  1.0088e+00],\n",
      "         ...,\n",
      "         [-8.4323e-01,  8.9588e-02, -3.4329e-02],\n",
      "         [ 3.5515e-01, -1.3346e+00, -8.9041e-01],\n",
      "         [-4.7066e-02, -7.1843e-02,  4.8237e-01]],\n",
      "\n",
      "        ...,\n",
      "\n",
      "        [[-2.6635e-01,  9.3167e-01, -6.9248e-02],\n",
      "         [ 3.3720e-01, -9.7890e-01,  1.4702e-01],\n",
      "         [ 1.4426e-01,  1.1163e-01, -3.8591e-01],\n",
      "         ...,\n",
      "         [-1.7943e-01, -2.8249e-01,  2.7351e-01],\n",
      "         [-1.0411e+00, -1.1339e+00, -2.3182e-02],\n",
      "         [ 1.7431e-01,  1.4482e-01,  2.8395e-01]],\n",
      "\n",
      "        [[ 7.9737e-01, -1.4041e+00,  7.3910e-02],\n",
      "         [-7.6679e-01, -1.0642e+00, -3.0295e-01],\n",
      "         [-9.7119e-02,  1.6739e-02,  2.3451e-01],\n",
      "         ...,\n",
      "         [ 2.1427e-01,  1.2135e-01,  1.2457e+00],\n",
      "         [ 8.2521e-01,  5.7447e-02,  3.7584e-02],\n",
      "         [ 1.7141e-01, -7.9083e-01,  5.7770e-01]],\n",
      "\n",
      "        [[-1.7688e-01, -1.3146e+00,  1.1414e+00],\n",
      "         [ 2.5669e-01, -3.7824e-01,  1.5586e-01],\n",
      "         [ 4.8877e-01,  3.2661e-01,  5.4019e-02],\n",
      "         ...,\n",
      "         [ 9.4102e-01, -2.3646e-01, -1.5739e-02],\n",
      "         [-7.2402e-01, -2.5864e-01, -5.9722e-02],\n",
      "         [ 3.2976e-02, -8.6828e-01,  3.9742e-01]]])\n"
     ]
    }
   ],
   "source": [
    "from sampler import batch_filt\n",
    "\n",
    "pos_batch = torch.rand(25, 20, 3)\n",
    "pos_batch=pos_batch\n",
    "scale_batch=(torch.rand(25, 20, 3)*2)\n",
    "pos_batch = pos_batch*2*scale_batch-scale_batch\n",
    "# print(pos_batch)\n",
    "filted_batch_data, filted_batch_size = batch_filt(pos_batch, 25, 20, 0.5)\n",
    "print(filted_batch_data)"
   ]
  },
  {
   "cell_type": "code",
   "execution_count": 50,
   "metadata": {},
   "outputs": [],
   "source": [
    "import matplotlib.pyplot as plt\n",
    "from mpl_toolkits import mplot3d\n",
    "\n",
    "def plot_3d(system):\n",
    "    x=system[:,0]\n",
    "    y=system[:,1]\n",
    "    z=system[:,2]\n",
    "    fig = plt.figure()\n",
    "    ax = plt.axes(projection='3d')\n",
    "    ax.scatter3D(x, y, z, c='green', marker='o')\n",
    "    plt.show()"
   ]
  },
  {
   "cell_type": "markdown",
   "metadata": {},
   "source": [
    "## 构造随机旋转并验证 Invariance"
   ]
  },
  {
   "cell_type": "code",
   "execution_count": 70,
   "metadata": {},
   "outputs": [
    {
     "name": "stdout",
     "output_type": "stream",
     "text": [
      "Requirement already satisfied: scipy in /home/v-linyukong/miniconda3/envs/crystal_generation/lib/python3.8/site-packages (1.8.1)\n",
      "Requirement already satisfied: numpy<1.25.0,>=1.17.3 in /home/v-linyukong/miniconda3/envs/crystal_generation/lib/python3.8/site-packages (from scipy) (1.22.3)\n"
     ]
    }
   ],
   "source": [
    "# ! pip install scipy"
   ]
  },
  {
   "cell_type": "code",
   "execution_count": 89,
   "metadata": {},
   "outputs": [
    {
     "name": "stdout",
     "output_type": "stream",
     "text": [
      "[0.4939810074782747, 0.7486731761825873, 0.03476151441029617, 0.44075262521206626]\n",
      "[141.32580483  38.72743506  99.10414856]\n",
      "[[-0.12343978  0.7090182   0.69430239]\n",
      " [ 0.77030312  0.5095488  -0.38339682]\n",
      " [-0.62561628  0.48749688 -0.60905752]]\n"
     ]
    }
   ],
   "source": [
    "from scipy.spatial.transform import Rotation as R\n",
    "import numpy as np\n",
    "import torch\n",
    "quaternion = np.random.rand(4)\n",
    "quaternion /= np.linalg.norm(quaternion)\n",
    "print(quaternion.tolist())\n",
    "r = R.from_quat(quaternion.tolist())\n",
    "print(r.as_euler('xyz',degrees=True))\n",
    "matrix=r.as_matrix()\n",
    "print(matrix)\n",
    "matrix=torch.FloatTensor(matrix)"
   ]
  },
  {
   "cell_type": "code",
   "execution_count": 107,
   "metadata": {},
   "outputs": [
    {
     "name": "stdout",
     "output_type": "stream",
     "text": [
      "tensor([0.9312, 0.4426, 1.0948, 1.1040, 0.6782, 1.3597, 0.5871, 0.8161, 0.8781,\n",
      "        1.4839])\n"
     ]
    },
    {
     "data": {
      "image/png": "[encoded data removed]",
      "text/plain": [
       "<Figure size 432x288 with 1 Axes>"
      ]
     },
     "metadata": {
      "needs_background": "light"
     },
     "output_type": "display_data"
    },
    {
     "name": "stdout",
     "output_type": "stream",
     "text": [
      "tensor([0.9312, 0.4426, 1.0948, 1.1040, 0.6782, 1.3597, 0.5871, 0.8161, 0.8781,\n",
      "        1.4839])\n"
     ]
    },
    {
     "data": {
      "image/png": "[encoded data removed]",
      "text/plain": [
       "<Figure size 432x288 with 1 Axes>"
      ]
     },
     "metadata": {
      "needs_background": "light"
     },
     "output_type": "display_data"
    }
   ],
   "source": [
    "## 检查旋转前后边长不变\n",
    "\n",
    "pos_batch = torch.rand(9, 3)\n",
    "scale_batch=(torch.rand(9, 3)*3)\n",
    "pos_batch = pos_batch*scale_batch\n",
    "\n",
    "edge_index=torch.tensor([[0,0,0,0,1,1,1,2,2,3],\n",
    "                        [1,2,3,4,2,3,4,3,4,4]])\n",
    "row=pos_batch[edge_index[0]]\n",
    "col=pos_batch[edge_index[1]]\n",
    "radial=torch.norm(row-col, dim=1)\n",
    "print(radial)\n",
    "plot_3d(pos_batch)\n",
    "\n",
    "rot_pos=torch.matmul(pos_batch,matrix)\n",
    "row=rot_pos[edge_index[0]]\n",
    "col=rot_pos[edge_index[1]]\n",
    "radial=torch.norm(row-col, dim=1)\n",
    "print(radial)\n",
    "plot_3d(rot_pos)"
   ]
  },
  {
   "cell_type": "code",
   "execution_count": 117,
   "metadata": {},
   "outputs": [
    {
     "name": "stdout",
     "output_type": "stream",
     "text": [
      "tensor([[0.0264],\n",
      "        [0.0262],\n",
      "        [0.0266]], device='cuda:0', grad_fn=<AddmmBackward0>)\n",
      "tensor([[0.0264],\n",
      "        [0.0262],\n",
      "        [0.0266]], device='cuda:0', grad_fn=<AddmmBackward0>)\n",
      "==================\n",
      "tensor([[0.0262],\n",
      "        [0.0224],\n",
      "        [0.0269]], device='cuda:0', grad_fn=<AddmmBackward0>)\n",
      "tensor([[0.0262],\n",
      "        [0.0224],\n",
      "        [0.0269]], device='cuda:0', grad_fn=<AddmmBackward0>)\n",
      "==================\n",
      "tensor([[0.0272],\n",
      "        [0.0256],\n",
      "        [0.0266]], device='cuda:0', grad_fn=<AddmmBackward0>)\n",
      "tensor([[0.0272],\n",
      "        [0.0256],\n",
      "        [0.0266]], device='cuda:0', grad_fn=<AddmmBackward0>)\n",
      "==================\n",
      "tensor([[0.0234],\n",
      "        [0.0256],\n",
      "        [0.0251]], device='cuda:0', grad_fn=<AddmmBackward0>)\n",
      "tensor([[0.0234],\n",
      "        [0.0256],\n",
      "        [0.0251]], device='cuda:0', grad_fn=<AddmmBackward0>)\n",
      "==================\n",
      "tensor([[0.0191],\n",
      "        [0.0239],\n",
      "        [0.0264]], device='cuda:0', grad_fn=<AddmmBackward0>)\n",
      "tensor([[0.0191],\n",
      "        [0.0239],\n",
      "        [0.0264]], device='cuda:0', grad_fn=<AddmmBackward0>)\n",
      "==================\n",
      "tensor([[0.0262],\n",
      "        [0.0264],\n",
      "        [0.0240]], device='cuda:0', grad_fn=<AddmmBackward0>)\n",
      "tensor([[0.0262],\n",
      "        [0.0264],\n",
      "        [0.0240]], device='cuda:0', grad_fn=<AddmmBackward0>)\n",
      "==================\n",
      "tensor([[0.0264],\n",
      "        [0.0267],\n",
      "        [0.0272]], device='cuda:0', grad_fn=<AddmmBackward0>)\n",
      "tensor([[0.0264],\n",
      "        [0.0267],\n",
      "        [0.0272]], device='cuda:0', grad_fn=<AddmmBackward0>)\n",
      "==================\n",
      "tensor([[0.0262],\n",
      "        [0.0262],\n",
      "        [0.0256]], device='cuda:0', grad_fn=<AddmmBackward0>)\n",
      "tensor([[0.0262],\n",
      "        [0.0262],\n",
      "        [0.0256]], device='cuda:0', grad_fn=<AddmmBackward0>)\n",
      "==================\n",
      "tensor([[0.0237],\n",
      "        [0.0245],\n",
      "        [0.0274]], device='cuda:0', grad_fn=<AddmmBackward0>)\n",
      "tensor([[0.0237],\n",
      "        [0.0245],\n",
      "        [0.0274]], device='cuda:0', grad_fn=<AddmmBackward0>)\n",
      "==================\n",
      "tensor([[0.0243],\n",
      "        [0.0263],\n",
      "        [0.0256]], device='cuda:0', grad_fn=<AddmmBackward0>)\n",
      "tensor([[0.0243],\n",
      "        [0.0263],\n",
      "        [0.0256]], device='cuda:0', grad_fn=<AddmmBackward0>)\n",
      "==================\n"
     ]
    }
   ],
   "source": [
    "from model.ignn import IGNN\n",
    "import torch.nn as nn\n",
    "from utils.graph_utils import get_edges_batch\n",
    "\n",
    "device=torch.device(\"cuda:0\")\n",
    "\n",
    "params = {\"device\": device,\n",
    "            \"lr\": 0.0,\n",
    "            \"num_nodes\": 3,\n",
    "            \"in_node_attr_dim\": 1,\n",
    "            \"node_attr_dim\": 128,\n",
    "            \"out_node_attr_dim\": 1,\n",
    "            \"egde_attr_dim\": 1,\n",
    "            \"message_dim\": 128,\n",
    "            \"global_layer_size\": 64,\n",
    "            \"num_layers\": 8,\n",
    "            \"activation\": nn.SiLU(),\n",
    "            \"residual\": True,\n",
    "            \"attention\": True,\n",
    "            \"normalize\": True,\n",
    "            \"tanh\": False,\n",
    "            \"last_sigmoid\": False}\n",
    "\n",
    "ignn=IGNN(**params)\n",
    "\n",
    "def weight_init(m):\n",
    "    if isinstance(m, nn.Linear):\n",
    "        nn.init.xavier_uniform_(m.weight)\n",
    "        nn.init.constant_(m.bias, 0.0)\n",
    "\n",
    "ignn.apply(weight_init)\n",
    "\n",
    "def random_rotate(system_3d):\n",
    "    quaternion = np.random.rand(4)\n",
    "    quaternion /= np.linalg.norm(quaternion)\n",
    "    r = R.from_quat(quaternion.tolist())\n",
    "    matrix=r.as_matrix()\n",
    "    matrix=torch.FloatTensor(matrix)\n",
    "    system_3d=torch.matmul(system_3d,matrix)\n",
    "    return system_3d\n",
    "\n",
    "for i in range(10):\n",
    "    pos_batch = torch.rand(9, 3)\n",
    "    scale_batch=(torch.rand(9, 3)*3)\n",
    "    pos_batch = pos_batch*scale_batch\n",
    "    rot_pos=random_rotate(pos_batch)\n",
    "    pos_batch=pos_batch.to(device)\n",
    "    h = torch.ones(9, 1).to(device)\n",
    "    edge_index, edge_attr = get_edges_batch(3, 3)\n",
    "    edge_index = edge_index.to(device)\n",
    "    edge_attr = edge_attr.to(device)\n",
    "    a=ignn(pos_batch, h, edge_index, edge_attr)\n",
    "    print(a)\n",
    "\n",
    "    rot_pos=rot_pos.to(device)\n",
    "    h = torch.ones(9, 1).to(device)\n",
    "    edge_index, edge_attr = get_edges_batch(3, 3)\n",
    "    edge_index = edge_index.to(device)\n",
    "    edge_attr = edge_attr.to(device)\n",
    "\n",
    "    a=ignn(rot_pos, h, edge_index, edge_attr)\n",
    "    print(a)\n",
    "    print(\"==================\")\n"
   ]
  },
  {
   "cell_type": "markdown",
   "metadata": {},
   "source": [
    "## 验证 BFGS 的 Invariance"
   ]
  },
  {
   "cell_type": "code",
   "execution_count": 157,
   "metadata": {},
   "outputs": [
    {
     "ename": "KeyboardInterrupt",
     "evalue": "",
     "output_type": "error",
     "traceback": [
      "\u001b[0;31m---------------------------------------------------------------------------\u001b[0m",
      "\u001b[0;31mKeyboardInterrupt\u001b[0m                         Traceback (most recent call last)",
      "\u001b[1;32m/home/v-linyukong/work/conform_discriminator/test.ipynb Cell 10'\u001b[0m in \u001b[0;36m<cell line: 9>\u001b[0;34m()\u001b[0m\n\u001b[1;32m      <a href='vscode-notebook-cell://ssh-remote%2Bgcr/home/v-linyukong/work/conform_discriminator/test.ipynb#ch0000017vscode-remote?line=5'>6</a>\u001b[0m rot_pos\u001b[39m=\u001b[39mrandom_rotate(pos_batch)\n\u001b[1;32m      <a href='vscode-notebook-cell://ssh-remote%2Bgcr/home/v-linyukong/work/conform_discriminator/test.ipynb#ch0000017vscode-remote?line=7'>8</a>\u001b[0m pos_batch\u001b[39m=\u001b[39mpos_batch\u001b[39m.\u001b[39mview(\u001b[39m3\u001b[39m,\u001b[39m30\u001b[39m,\u001b[39m3\u001b[39m)\n\u001b[0;32m----> <a href='vscode-notebook-cell://ssh-remote%2Bgcr/home/v-linyukong/work/conform_discriminator/test.ipynb#ch0000017vscode-remote?line=8'>9</a>\u001b[0m batch_steps,batch_energy\u001b[39m=\u001b[39mbatch_relax(pos_batch,\u001b[39m500\u001b[39;49m,\u001b[39m3\u001b[39;49m)\n\u001b[1;32m     <a href='vscode-notebook-cell://ssh-remote%2Bgcr/home/v-linyukong/work/conform_discriminator/test.ipynb#ch0000017vscode-remote?line=9'>10</a>\u001b[0m \u001b[39mprint\u001b[39m(batch_steps)\n\u001b[1;32m     <a href='vscode-notebook-cell://ssh-remote%2Bgcr/home/v-linyukong/work/conform_discriminator/test.ipynb#ch0000017vscode-remote?line=10'>11</a>\u001b[0m \u001b[39mprint\u001b[39m(batch_energy)\n",
      "File \u001b[0;32m~/work/conform_discriminator/bfgs_relax.py:21\u001b[0m, in \u001b[0;36mbatch_relax\u001b[0;34m(conforms, max_steps, batch_size)\u001b[0m\n\u001b[1;32m     19\u001b[0m \u001b[39mfor\u001b[39;00m i \u001b[39min\u001b[39;00m \u001b[39mrange\u001b[39m(batch_size):\n\u001b[1;32m     20\u001b[0m     pos\u001b[39m=\u001b[39m\u001b[39mlist\u001b[39m(\u001b[39mmap\u001b[39m(\u001b[39mtuple\u001b[39m, conforms[i]\u001b[39m.\u001b[39mtolist()))\n\u001b[0;32m---> 21\u001b[0m     steps,energy\u001b[39m=\u001b[39mrelax(pos,max_steps)\n\u001b[1;32m     22\u001b[0m     batch_steps\u001b[39m.\u001b[39mappend(steps)\n\u001b[1;32m     23\u001b[0m     batch_energy\u001b[39m.\u001b[39mappend(energy)\n",
      "File \u001b[0;32m~/work/conform_discriminator/bfgs_relax.py:13\u001b[0m, in \u001b[0;36mrelax\u001b[0;34m(xyz, max_steps)\u001b[0m\n\u001b[1;32m     11\u001b[0m atm\u001b[39m.\u001b[39mget_potential_energy()\n\u001b[1;32m     12\u001b[0m dyn \u001b[39m=\u001b[39m BFGS(atm,logfile\u001b[39m=\u001b[39m\u001b[39mNone\u001b[39;00m)\n\u001b[0;32m---> 13\u001b[0m dyn\u001b[39m.\u001b[39;49mrun(fmax\u001b[39m=\u001b[39;49m\u001b[39m0.0001\u001b[39;49m,steps\u001b[39m=\u001b[39;49mmax_steps)\n\u001b[1;32m     14\u001b[0m \u001b[39mreturn\u001b[39;00m dyn\u001b[39m.\u001b[39mget_number_of_steps(),\u001b[39mmin\u001b[39m(atm\u001b[39m.\u001b[39mget_potential_energy(),\u001b[39m10\u001b[39m)\n",
      "File \u001b[0;32m~/miniconda3/envs/crystal_generation/lib/python3.8/site-packages/ase/optimize/optimize.py:269\u001b[0m, in \u001b[0;36mOptimizer.run\u001b[0;34m(self, fmax, steps)\u001b[0m\n\u001b[1;32m    267\u001b[0m \u001b[39mif\u001b[39;00m steps:\n\u001b[1;32m    268\u001b[0m     \u001b[39mself\u001b[39m\u001b[39m.\u001b[39mmax_steps \u001b[39m=\u001b[39m steps\n\u001b[0;32m--> 269\u001b[0m \u001b[39mreturn\u001b[39;00m Dynamics\u001b[39m.\u001b[39;49mrun(\u001b[39mself\u001b[39;49m)\n",
      "File \u001b[0;32m~/miniconda3/envs/crystal_generation/lib/python3.8/site-packages/ase/optimize/optimize.py:156\u001b[0m, in \u001b[0;36mDynamics.run\u001b[0;34m(self)\u001b[0m\n\u001b[1;32m    149\u001b[0m \u001b[39mdef\u001b[39;00m \u001b[39mrun\u001b[39m(\u001b[39mself\u001b[39m):\n\u001b[1;32m    150\u001b[0m     \u001b[39m\"\"\"Run dynamics algorithm.\u001b[39;00m\n\u001b[1;32m    151\u001b[0m \n\u001b[1;32m    152\u001b[0m \u001b[39m    This method will return when the forces on all individual\u001b[39;00m\n\u001b[1;32m    153\u001b[0m \u001b[39m    atoms are less than *fmax* or when the number of steps exceeds\u001b[39;00m\n\u001b[1;32m    154\u001b[0m \u001b[39m    *steps*.\"\"\"\u001b[39;00m\n\u001b[0;32m--> 156\u001b[0m     \u001b[39mfor\u001b[39;00m converged \u001b[39min\u001b[39;00m Dynamics\u001b[39m.\u001b[39mirun(\u001b[39mself\u001b[39m):\n\u001b[1;32m    157\u001b[0m         \u001b[39mpass\u001b[39;00m\n\u001b[1;32m    158\u001b[0m     \u001b[39mreturn\u001b[39;00m converged\n",
      "File \u001b[0;32m~/miniconda3/envs/crystal_generation/lib/python3.8/site-packages/ase/optimize/optimize.py:143\u001b[0m, in \u001b[0;36mDynamics.irun\u001b[0;34m(self)\u001b[0m\n\u001b[1;32m    140\u001b[0m     \u001b[39myield\u001b[39;00m \u001b[39mFalse\u001b[39;00m\n\u001b[1;32m    142\u001b[0m     \u001b[39m# log the step\u001b[39;00m\n\u001b[0;32m--> 143\u001b[0m     \u001b[39mself\u001b[39;49m\u001b[39m.\u001b[39;49mlog()\n\u001b[1;32m    144\u001b[0m     \u001b[39mself\u001b[39m\u001b[39m.\u001b[39mcall_observers()\n\u001b[1;32m    146\u001b[0m \u001b[39m# finally check if algorithm was converged\u001b[39;00m\n",
      "File \u001b[0;32m~/miniconda3/envs/crystal_generation/lib/python3.8/site-packages/ase/optimize/optimize.py:283\u001b[0m, in \u001b[0;36mOptimizer.log\u001b[0;34m(self, forces)\u001b[0m\n\u001b[1;32m    281\u001b[0m \u001b[39mdef\u001b[39;00m \u001b[39mlog\u001b[39m(\u001b[39mself\u001b[39m, forces\u001b[39m=\u001b[39m\u001b[39mNone\u001b[39;00m):\n\u001b[1;32m    282\u001b[0m     \u001b[39mif\u001b[39;00m forces \u001b[39mis\u001b[39;00m \u001b[39mNone\u001b[39;00m:\n\u001b[0;32m--> 283\u001b[0m         forces \u001b[39m=\u001b[39m \u001b[39mself\u001b[39;49m\u001b[39m.\u001b[39;49matoms\u001b[39m.\u001b[39;49mget_forces()\n\u001b[1;32m    284\u001b[0m     fmax \u001b[39m=\u001b[39m sqrt((forces \u001b[39m*\u001b[39m\u001b[39m*\u001b[39m \u001b[39m2\u001b[39m)\u001b[39m.\u001b[39msum(axis\u001b[39m=\u001b[39m\u001b[39m1\u001b[39m)\u001b[39m.\u001b[39mmax())\n\u001b[1;32m    285\u001b[0m     e \u001b[39m=\u001b[39m \u001b[39mself\u001b[39m\u001b[39m.\u001b[39matoms\u001b[39m.\u001b[39mget_potential_energy(\n\u001b[1;32m    286\u001b[0m         force_consistent\u001b[39m=\u001b[39m\u001b[39mself\u001b[39m\u001b[39m.\u001b[39mforce_consistent\n\u001b[1;32m    287\u001b[0m     )\n",
      "File \u001b[0;32m~/miniconda3/envs/crystal_generation/lib/python3.8/site-packages/ase/atoms.py:788\u001b[0m, in \u001b[0;36mAtoms.get_forces\u001b[0;34m(self, apply_constraint, md)\u001b[0m\n\u001b[1;32m    786\u001b[0m \u001b[39mif\u001b[39;00m \u001b[39mself\u001b[39m\u001b[39m.\u001b[39m_calc \u001b[39mis\u001b[39;00m \u001b[39mNone\u001b[39;00m:\n\u001b[1;32m    787\u001b[0m     \u001b[39mraise\u001b[39;00m \u001b[39mRuntimeError\u001b[39;00m(\u001b[39m'\u001b[39m\u001b[39mAtoms object has no calculator.\u001b[39m\u001b[39m'\u001b[39m)\n\u001b[0;32m--> 788\u001b[0m forces \u001b[39m=\u001b[39m \u001b[39mself\u001b[39;49m\u001b[39m.\u001b[39;49m_calc\u001b[39m.\u001b[39;49mget_forces(\u001b[39mself\u001b[39;49m)\n\u001b[1;32m    790\u001b[0m \u001b[39mif\u001b[39;00m apply_constraint:\n\u001b[1;32m    791\u001b[0m     \u001b[39m# We need a special md flag here because for MD we want\u001b[39;00m\n\u001b[1;32m    792\u001b[0m     \u001b[39m# to skip real constraints but include special \"constraints\"\u001b[39;00m\n\u001b[1;32m    793\u001b[0m     \u001b[39m# Like Hookean.\u001b[39;00m\n\u001b[1;32m    794\u001b[0m     \u001b[39mfor\u001b[39;00m constraint \u001b[39min\u001b[39;00m \u001b[39mself\u001b[39m\u001b[39m.\u001b[39mconstraints:\n",
      "File \u001b[0;32m~/miniconda3/envs/crystal_generation/lib/python3.8/site-packages/ase/calculators/abc.py:23\u001b[0m, in \u001b[0;36mGetPropertiesMixin.get_forces\u001b[0;34m(self, atoms)\u001b[0m\n\u001b[1;32m     22\u001b[0m \u001b[39mdef\u001b[39;00m \u001b[39mget_forces\u001b[39m(\u001b[39mself\u001b[39m, atoms\u001b[39m=\u001b[39m\u001b[39mNone\u001b[39;00m):\n\u001b[0;32m---> 23\u001b[0m     \u001b[39mreturn\u001b[39;00m \u001b[39mself\u001b[39;49m\u001b[39m.\u001b[39;49mget_property(\u001b[39m'\u001b[39;49m\u001b[39mforces\u001b[39;49m\u001b[39m'\u001b[39;49m, atoms)\n",
      "File \u001b[0;32m~/miniconda3/envs/crystal_generation/lib/python3.8/site-packages/ase/calculators/calculator.py:737\u001b[0m, in \u001b[0;36mCalculator.get_property\u001b[0;34m(self, name, atoms, allow_calculation)\u001b[0m\n\u001b[1;32m    735\u001b[0m     \u001b[39mif\u001b[39;00m \u001b[39mnot\u001b[39;00m allow_calculation:\n\u001b[1;32m    736\u001b[0m         \u001b[39mreturn\u001b[39;00m \u001b[39mNone\u001b[39;00m\n\u001b[0;32m--> 737\u001b[0m     \u001b[39mself\u001b[39;49m\u001b[39m.\u001b[39;49mcalculate(atoms, [name], system_changes)\n\u001b[1;32m    739\u001b[0m \u001b[39mif\u001b[39;00m name \u001b[39mnot\u001b[39;00m \u001b[39min\u001b[39;00m \u001b[39mself\u001b[39m\u001b[39m.\u001b[39mresults:\n\u001b[1;32m    740\u001b[0m     \u001b[39m# For some reason the calculator was not able to do what we want,\u001b[39;00m\n\u001b[1;32m    741\u001b[0m     \u001b[39m# and that is OK.\u001b[39;00m\n\u001b[1;32m    742\u001b[0m     \u001b[39mraise\u001b[39;00m PropertyNotImplementedError(\u001b[39m'\u001b[39m\u001b[39m{}\u001b[39;00m\u001b[39m not present in this \u001b[39m\u001b[39m'\u001b[39m\n\u001b[1;32m    743\u001b[0m                                       \u001b[39m'\u001b[39m\u001b[39mcalculation\u001b[39m\u001b[39m'\u001b[39m\u001b[39m.\u001b[39mformat(name))\n",
      "File \u001b[0;32m~/miniconda3/envs/crystal_generation/lib/python3.8/site-packages/ase/calculators/lj.py:234\u001b[0m, in \u001b[0;36mLennardJones.calculate\u001b[0;34m(self, atoms, properties, system_changes)\u001b[0m\n\u001b[1;32m    231\u001b[0m     energies[ii] \u001b[39m+\u001b[39m\u001b[39m=\u001b[39m \u001b[39m0.5\u001b[39m \u001b[39m*\u001b[39m pairwise_energies\u001b[39m.\u001b[39msum()  \u001b[39m# atomic energies\u001b[39;00m\n\u001b[1;32m    232\u001b[0m     forces[ii] \u001b[39m+\u001b[39m\u001b[39m=\u001b[39m pairwise_forces\u001b[39m.\u001b[39msum(axis\u001b[39m=\u001b[39m\u001b[39m0\u001b[39m)\n\u001b[0;32m--> 234\u001b[0m     stresses[ii] \u001b[39m+\u001b[39m\u001b[39m=\u001b[39m \u001b[39m0.5\u001b[39m \u001b[39m*\u001b[39m np\u001b[39m.\u001b[39;49mdot(\n\u001b[1;32m    235\u001b[0m         pairwise_forces\u001b[39m.\u001b[39;49mT, distance_vectors\n\u001b[1;32m    236\u001b[0m     )  \u001b[39m# equivalent to outer product\u001b[39;00m\n\u001b[1;32m    238\u001b[0m \u001b[39m# no lattice, no stress\u001b[39;00m\n\u001b[1;32m    239\u001b[0m \u001b[39mif\u001b[39;00m \u001b[39mself\u001b[39m\u001b[39m.\u001b[39matoms\u001b[39m.\u001b[39mcell\u001b[39m.\u001b[39mrank \u001b[39m==\u001b[39m \u001b[39m3\u001b[39m:\n",
      "File \u001b[0;32m<__array_function__ internals>:180\u001b[0m, in \u001b[0;36mdot\u001b[0;34m(*args, **kwargs)\u001b[0m\n",
      "\u001b[0;31mKeyboardInterrupt\u001b[0m: "
     ]
    },
    {
     "name": "stderr",
     "output_type": "stream",
     "text": [
      "Bad pipe message: %s [b'\\x87\\xcb\\x1a\\xb0\\xd3\\x06\\x87\\xb8\\xa3\\xc7<]\\x02Ca`\\xdbI', b'\\xd6\\xda\\x13\\x8c\\x90\\xe2\\x0f\\xf9\\xb8\\x14\\xe9;;\\xee\\xa0\\xbfp\\xa2}r\\x07~\\x83\\x1f)L\\xb8iKN\\x00']\n",
      "Bad pipe message: %s [b'\\xc9u3\\xa1\\x08\\x8f\\xfe\\x98L\\xbd\\n\\x1f\\xcc\\xfa\\xeb]\\xebO i\\xd2\\x95&\\xbe\\xf8\\x85t\\xd9UH\\xac\\x9b\\xfc\\xe3\\x9b_\\xcar\\x9e9\\xa3:\\xd9Wn\\xe1|\\x99\\xfb\\xaf\\xb2\\x00\\x08\\x13\\x02\\x13\\x03\\x13\\x01\\x00\\xff\\x01\\x00']\n",
      "Bad pipe message: %s [b'|4\\x8b/\\x88QX\\x05\\xe4\\x11\\x92\\x17\\xd2\\x01\\xd0\\xb4\\x07@\\x00\\x00\\xa2\\xc0\\x14\\xc0\\n\\x009\\x008\\x007\\x006\\x00\\x88\\x00\\x87\\x00\\x86\\x00\\x85\\xc0\\x19\\x00:\\x00\\x89\\xc0\\x0f\\xc0\\x05\\x005\\x00\\x84\\xc0\\x13\\xc0\\t\\x003\\x002\\x001\\x000\\x00\\x9a\\x00\\x99\\x00\\x98\\x00\\x97\\x00E\\x00D\\x00C\\x00B\\xc0\\x18\\x004\\x00\\x9b\\x00F\\xc0\\x0e\\xc0\\x04\\x00/\\x00\\x96\\x00A\\x00\\x07\\xc0\\x11\\xc0\\x07\\xc0\\x16\\x00\\x18\\xc0\\x0c\\xc0\\x02\\x00\\x05\\x00\\x04\\xc0\\x12\\xc0\\x08\\x00\\x16\\x00\\x13\\x00\\x10\\x00']\n",
      "Bad pipe message: %s [b'\\x17\\x00\\x1b\\xc0\\r\\xc0\\x03\\x00\\n\\x00\\x15\\x00']\n",
      "Bad pipe message: %s [b'\\x0f\\x00\\x0c\\x00\\x1a\\x00\\t\\x00\\x14\\x00\\x11\\x00\\x19\\x00\\x08\\x00\\x06']\n",
      "Bad pipe message: %s [b'%(\\xab\\xb6la\\x8e\\xd2dFU\\x0cK\\x06\\x91\\x1e N\\x00\\x00\\xa2\\xc0\\x14\\xc0\\n\\x009\\x008\\x007\\x006\\x00\\x88\\x00\\x87\\x00\\x86\\x00\\x85\\xc0\\x19\\x00:\\x00\\x89\\xc0\\x0f\\xc0\\x05\\x005\\x00\\x84\\xc0\\x13\\xc0\\t\\x003\\x002\\x001\\x00']\n",
      "Bad pipe message: %s [b'\\x9a\\x00\\x99\\x00\\x98\\x00\\x97\\x00E\\x00D\\x00C\\x00B\\xc0\\x18\\x004\\x00\\x9b\\x00F\\xc0\\x0e\\xc0\\x04\\x00/\\x00\\x96\\x00A\\x00\\x07\\xc0\\x11\\xc0\\x07\\xc0\\x16\\x00\\x18\\xc0\\x0c\\xc0\\x02']\n",
      "Bad pipe message: %s [b'\\xc1C\\x82=\\xa0?N\\x00EviQ\\xe1\\xd9\\\\g\\x87\\x8b\\x00\\x00\\xa2\\xc0\\x14\\xc0\\n\\x009\\x008\\x007\\x006\\x00\\x88\\x00\\x87\\x00\\x86\\x00\\x85\\xc0\\x19\\x00:\\x00\\x89\\xc0\\x0f\\xc0\\x05\\x005\\x00\\x84\\xc0\\x13\\xc0\\t\\x003\\x002\\x001\\x000\\x00\\x9a\\x00\\x99\\x00\\x98\\x00\\x97\\x00E\\x00D\\x00C\\x00B\\xc0\\x18\\x004\\x00\\x9b\\x00F\\xc0\\x0e\\xc0\\x04\\x00/\\x00\\x96\\x00A\\x00\\x07\\xc0\\x11\\xc0\\x07\\xc0\\x16\\x00\\x18\\xc0\\x0c\\xc0\\x02\\x00\\x05\\x00\\x04\\xc0\\x12\\xc0\\x08\\x00\\x16\\x00\\x13\\x00\\x10\\x00\\r\\xc0\\x17\\x00\\x1b\\xc0\\r\\xc0\\x03\\x00\\n\\x00\\x15\\x00\\x12\\x00\\x0f\\x00\\x0c\\x00\\x1a\\x00\\t\\x00']\n",
      "Bad pipe message: %s [b'\\x11\\x00\\x19\\x00\\x08\\x00\\x06\\x00\\x17\\x00\\x03\\xc0\\x10\\xc0\\x06\\xc0\\x15\\xc0\\x0b']\n",
      "Bad pipe message: %s [b\"\\xf4Ce,=\\x8f\\xad\\x06\\x8fl8r\\xc0p\\x972\\x04\\xd9\\x00\\x00\\xf4\\xc00\\xc0,\\xc0(\\xc0$\\xc0\\x14\\xc0\\n\\x00\\xa5\\x00\\xa3\\x00\\xa1\\x00\\x9f\\x00k\\x00j\\x00i\\x00h\\x009\\x008\\x007\\x006\\x00\\x88\\x00\\x87\\x00\\x86\\x00\\x85\\xc0\\x19\\x00\\xa7\\x00m\\x00:\\x00\\x89\\xc02\\xc0.\\xc0*\\xc0&\\xc0\\x0f\\xc0\\x05\\x00\\x9d\\x00=\\x005\\x00\\x84\\xc0/\\xc0+\\xc0'\\xc0#\\xc0\\x13\\xc0\\t\\x00\\xa4\\x00\\xa2\\x00\\xa0\\x00\\x9e\\x00g\\x00@\\x00?\\x00>\\x003\\x002\\x001\\x000\\x00\\x9a\\x00\\x99\\x00\\x98\\x00\\x97\\x00E\\x00D\\x00C\\x00B\\xc0\\x18\\x00\\xa6\\x00l\\x004\\x00\\x9b\\x00F\\xc01\\xc0-\\xc0)\\xc0%\\xc0\\x0e\\xc0\"]\n",
      "Bad pipe message: %s [b'\\x9c\\x00<']\n"
     ]
    }
   ],
   "source": [
    "from bfgs_relax import relax,batch_relax\n",
    "\n",
    "pos_batch = torch.rand(90, 3)\n",
    "scale_batch=(torch.rand(90, 3)*3)\n",
    "pos_batch = pos_batch*scale_batch\n",
    "rot_pos=random_rotate(pos_batch)\n",
    "\n",
    "pos_batch=pos_batch.view(3,30,3)\n",
    "batch_steps,batch_energy=batch_relax(pos_batch,500,3)\n",
    "print(batch_steps)\n",
    "print(batch_energy)\n",
    "\n",
    "rot_pos=rot_pos.view(3,30,3)\n",
    "batch_steps,batch_energy=batch_relax(rot_pos,500,3)\n",
    "print(batch_steps)\n",
    "\n",
    "print(batch_energy)"
   ]
  },
  {
   "cell_type": "markdown",
   "metadata": {},
   "source": [
    "## 保存训练模型"
   ]
  },
  {
   "cell_type": "code",
   "execution_count": 75,
   "metadata": {},
   "outputs": [
    {
     "data": {
      "text/plain": [
       "<All keys matched successfully>"
      ]
     },
     "execution_count": 75,
     "metadata": {},
     "output_type": "execute_result"
    }
   ],
   "source": [
    "from discriminator import Discriminator\n",
    "import torch\n",
    "\n",
    "\n",
    "lr=1e-4\n",
    "pos_scale=10\n",
    "num_steps=101\n",
    "num_atoms=20\n",
    "batch_size=128\n",
    "in_node_attr_dim=1\n",
    "node_attr_dim=128\n",
    "out_node_attr_dim=1\n",
    "edge_attr_dim=1\n",
    "message_dim=128\n",
    "num_layers=8\n",
    "global_layer_size=64\n",
    "residual=True\n",
    "attention=True\n",
    "normalize=True\n",
    "tanh=True\n",
    "\n",
    "target_latent_size=128\n",
    "target_num_layers=4\n",
    "target_out_put_size=1\n",
    "\n",
    "max_relax_steps=200\n",
    "threshold=0.5\n",
    "potential_scale=100\n",
    "\n",
    "device = torch.device(\"cuda:0\")\n",
    "\n",
    "intrinsic_target_params={\"device\": device,\n",
    "                          \"lr\": lr,\n",
    "                          \"num_nodes\": num_atoms,\n",
    "                          \"in_node_attr_dim\": in_node_attr_dim,\n",
    "                          \"node_attr_dim\": node_attr_dim,\n",
    "                          \"out_node_attr_dim\": out_node_attr_dim,\n",
    "                          \"egde_attr_dim\": edge_attr_dim,\n",
    "                          \"message_dim\": message_dim,\n",
    "                          \"global_layer_size\": global_layer_size,\n",
    "                          \"num_layers\": target_num_layers,\n",
    "                          \"activation\": nn.SiLU(),\n",
    "                          \"residual\": residual,\n",
    "                          \"attention\": attention,\n",
    "                          \"normalize\": normalize,\n",
    "                          \"tanh\": tanh,\n",
    "                          \"last_sigmoid\": False}\n",
    "\n",
    "intrinsic_model_params = {\"device\": device,\n",
    "                          \"lr\": lr,\n",
    "                          \"num_nodes\": num_atoms,\n",
    "                          \"in_node_attr_dim\": in_node_attr_dim,\n",
    "                          \"node_attr_dim\": node_attr_dim,\n",
    "                          \"out_node_attr_dim\": out_node_attr_dim,\n",
    "                          \"egde_attr_dim\": edge_attr_dim,\n",
    "                          \"message_dim\": message_dim,\n",
    "                          \"global_layer_size\": global_layer_size,\n",
    "                          \"num_layers\": num_layers,\n",
    "                          \"activation\": nn.SiLU(),\n",
    "                          \"residual\": residual,\n",
    "                          \"attention\": attention,\n",
    "                          \"normalize\": normalize,\n",
    "                          \"tanh\": tanh,\n",
    "                          \"last_sigmoid\": False}\n",
    "\n",
    "extrinsic_model_params = {\"device\": device,\n",
    "                      \"lr\": lr,\n",
    "                      \"num_nodes\": num_atoms,\n",
    "                      \"in_node_attr_dim\": in_node_attr_dim,\n",
    "                      \"node_attr_dim\": node_attr_dim,\n",
    "                      \"out_node_attr_dim\": out_node_attr_dim,\n",
    "                      \"egde_attr_dim\": edge_attr_dim,\n",
    "                      \"message_dim\": message_dim,\n",
    "                      \"global_layer_size\": global_layer_size,\n",
    "                      \"num_layers\": num_layers,\n",
    "                      \"activation\": nn.SiLU(),\n",
    "                      \"residual\": residual,\n",
    "                      \"attention\": attention,\n",
    "                      \"normalize\": normalize,\n",
    "                      \"tanh\": tanh,\n",
    "                      \"last_sigmoid\": False}\n",
    "\n",
    "\n",
    "discriminator = Discriminator(intrinsic_target_params,\n",
    "                                  intrinsic_model_params,\n",
    "                                  extrinsic_model_params,\n",
    "                                  20,\n",
    "                                  device)\n",
    "\n",
    "# discriminator.load_model(\"./model_save/\")\n",
    "# discriminator.intrinsic_model.load_state_dict(torch.load(\"./model_save/\" + \"intrinsic_model.pt\"))\n",
    "# discriminator.intrinsic_target_model.load_state_dict(torch.load(\"./model_save/\" + \"intrinsic_target_model.pt\"))\n",
    "# discriminator.extrinsic_model.load_state_dict(torch.load(\"./model_save/\" + \"extrinsic_model.pt\"))"
   ]
  },
  {
   "cell_type": "markdown",
   "metadata": {},
   "source": [
    "## Test 测试\n"
   ]
  },
  {
   "cell_type": "code",
   "execution_count": 23,
   "metadata": {},
   "outputs": [
    {
     "data": {
      "text/plain": [
       "<All keys matched successfully>"
      ]
     },
     "execution_count": 23,
     "metadata": {},
     "output_type": "execute_result"
    }
   ],
   "source": [
    "from discriminator import Discriminator\n",
    "import torch\n",
    "import torch.nn as nn\n",
    "\n",
    "lr=1e-4\n",
    "pos_scale=2\n",
    "num_steps=101\n",
    "num_atoms=20\n",
    "batch_size=128\n",
    "in_node_attr_dim=1\n",
    "node_attr_dim=128\n",
    "out_node_attr_dim=1\n",
    "edge_attr_dim=1\n",
    "message_dim=128\n",
    "num_layers=8\n",
    "global_layer_size=128\n",
    "residual=True\n",
    "attention=True\n",
    "normalize=True\n",
    "tanh=True\n",
    "\n",
    "target_latent_size=128\n",
    "target_num_layers=4\n",
    "target_out_put_size=1\n",
    "\n",
    "max_relax_steps=200\n",
    "threshold=1\n",
    "potential_scale=100\n",
    "\n",
    "device = torch.device(\"cuda:0\")\n",
    "\n",
    "intrinsic_target_params={\"device\": device,\n",
    "                          \"lr\": lr,\n",
    "                          \"num_nodes\": num_atoms,\n",
    "                          \"in_node_attr_dim\": in_node_attr_dim,\n",
    "                          \"node_attr_dim\": node_attr_dim,\n",
    "                          \"out_node_attr_dim\": out_node_attr_dim,\n",
    "                          \"egde_attr_dim\": edge_attr_dim,\n",
    "                          \"message_dim\": message_dim,\n",
    "                          \"global_layer_size\": global_layer_size,\n",
    "                          \"num_layers\": target_num_layers,\n",
    "                          \"activation\": nn.SiLU(),\n",
    "                          \"residual\": residual,\n",
    "                          \"attention\": attention,\n",
    "                          \"normalize\": normalize,\n",
    "                          \"tanh\": tanh,\n",
    "                          \"last_sigmoid\": False}\n",
    "\n",
    "intrinsic_model_params = {\"device\": device,\n",
    "                          \"lr\": lr,\n",
    "                          \"num_nodes\": num_atoms,\n",
    "                          \"in_node_attr_dim\": in_node_attr_dim,\n",
    "                          \"node_attr_dim\": node_attr_dim,\n",
    "                          \"out_node_attr_dim\": out_node_attr_dim,\n",
    "                          \"egde_attr_dim\": edge_attr_dim,\n",
    "                          \"message_dim\": message_dim,\n",
    "                          \"global_layer_size\": global_layer_size,\n",
    "                          \"num_layers\": num_layers,\n",
    "                          \"activation\": nn.SiLU(),\n",
    "                          \"residual\": residual,\n",
    "                          \"attention\": attention,\n",
    "                          \"normalize\": normalize,\n",
    "                          \"tanh\": tanh,\n",
    "                          \"last_sigmoid\": False}\n",
    "\n",
    "extrinsic_model_params = {\"device\": device,\n",
    "                      \"lr\": lr,\n",
    "                      \"num_nodes\": num_atoms,\n",
    "                      \"in_node_attr_dim\": in_node_attr_dim,\n",
    "                      \"node_attr_dim\": node_attr_dim,\n",
    "                      \"out_node_attr_dim\": out_node_attr_dim,\n",
    "                      \"egde_attr_dim\": edge_attr_dim,\n",
    "                      \"message_dim\": message_dim,\n",
    "                      \"global_layer_size\": global_layer_size,\n",
    "                      \"num_layers\": num_layers,\n",
    "                      \"activation\": nn.SiLU(),\n",
    "                      \"residual\": residual,\n",
    "                      \"attention\": attention,\n",
    "                      \"normalize\": normalize,\n",
    "                      \"tanh\": tanh,\n",
    "                      \"last_sigmoid\": False}\n",
    "\n",
    "\n",
    "discriminator = Discriminator(intrinsic_target_params,\n",
    "                                  intrinsic_model_params,\n",
    "                                  extrinsic_model_params,\n",
    "                                  num_atoms,\n",
    "                                  20,\n",
    "                                  0.5,\n",
    "                                  device)\n",
    "\n",
    "discriminator.intrinsic_model.load_state_dict(torch.load(\"./model_save/multistep1_\" + \"intrinsic_model.pt\"))\n",
    "discriminator.intrinsic_target_model.load_state_dict(torch.load(\"./model_save/multistep1_\" + \"intrinsic_target_model.pt\"))\n",
    "discriminator.extrinsic_model.load_state_dict(torch.load(\"./model_save/multistep1_\" + \"extrinsic_model.pt\"))"
   ]
  },
  {
   "cell_type": "code",
   "execution_count": 24,
   "metadata": {},
   "outputs": [],
   "source": [
    "from sampler import Sampler\n",
    "\n",
    "sampler = Sampler(num_atoms, pos_scale, threshold)"
   ]
  },
  {
   "cell_type": "code",
   "execution_count": 25,
   "metadata": {},
   "outputs": [
    {
     "name": "stdout",
     "output_type": "stream",
     "text": [
      "[-24.899318511447483, -24.936875974558806, -18.835912224286194, -14.57733548285998, -21.0211937649682, -21.98243367126957, -17.202056480363684, -21.171612469452942, -16.374374015263214, -19.24951458457686, -12.017175888051241, -16.68259426248399, -16.163441116052976, -15.948588105390339, -17.701050805261442, -13.752256353053433, -21.837386519441587, -19.761851564615466, -15.100776627598666, -16.21818076701084, -18.18779554887753, -17.027763263655576, -14.164745203837438, -16.43371570325065, -20.602926438363536, -16.586357657665797, -13.615209749316236, -16.734420271473752, -20.556565021145303, -16.523785747661417, -17.19370714922425, -19.908316568120288, -15.027545438635281, -19.671375833200592, -13.76677319904681, -15.561742953868178, -16.377311405077915, -17.7732641320517, -19.649882967952568, -21.77238546471411, -14.99089294189808, -17.649820376723582, -22.209883626474937, -20.248484748946346, -18.590879353530976, -17.076004280279435, -15.930020410773405, -16.456619100858962, -15.16827149544698, -12.874710029842221, -18.85337898139163, -12.92152776497039, -17.751225248922676, -28.323103512735038, -16.75170098960379, -19.129713284121046, -17.439291847228688, -15.345340250179966, -18.858713117456084, -18.808745713809977, -17.202074602028027, -16.058934506070642, -18.271269815560522, -15.305946260283473, -15.83757273577942, -22.612977242094335, -20.88514791533167, -19.262547482372042, -15.6439780253609, -17.434827206556857, -21.36113919498417, -16.37397317837131, -17.8848975737264, -18.555394325116776, -23.798929885610765, -16.224554994992506, -22.46121589536453, -17.19749077267911, -17.345089912818004, -14.721026339544341, -16.12440071318979, -12.724548981762792, -14.276995574020088, -15.37151817234544, -17.40613122857686, -17.76616389224712, -15.863672209385065, -15.422880526673374, -17.924715661615874, -19.90690896383929, -18.171102697620725, -16.193738324302398, -18.78907534113212, -18.01864237368783, -17.15963645400385, -16.430499872339965, -15.875623212148021, -14.649885939866996, -16.44986244387898, -18.09998997802199, -18.052439662796697, -14.323969952813382, -15.50035633613954, -18.15654168459322, -20.37237607052419, -17.378891694557286, -20.009130757011256, -17.503276685420584, -16.5705663651986, -19.468691094175732, -22.400372828730724, -19.357852950480744, -17.922211413172278, -16.134506342750488, -17.1604843356241, -15.617229465269316, -19.03330503999863, -15.79225416220404, -13.779698228307897, -16.256082571239563, -19.196832544448323, -17.338395661565077, -19.430708002316607, -16.29679205571632, -17.548903094908255, -19.259593887613722, -14.20028160693568, -16.575656886733466]\n"
     ]
    }
   ],
   "source": [
    "from bfgs_relax import batch_compute\n",
    "\n",
    "conforms,sampled_batch_size = sampler.batch_sample(batch_size)\n",
    "relax_energy=batch_compute(conforms,sampled_batch_size)\n",
    "print(relax_energy)\n",
    "relax_energy=torch.FloatTensor(relax_energy).unsqueeze(-1)"
   ]
  },
  {
   "cell_type": "code",
   "execution_count": 26,
   "metadata": {},
   "outputs": [],
   "source": [
    "intrinsic_loss,extrinsic_loss,intrinsic_reward,extrinsic_reward=discriminator.compute_loss_and_train(conforms, relax_energy, sampled_batch_size)"
   ]
  },
  {
   "cell_type": "code",
   "execution_count": 27,
   "metadata": {},
   "outputs": [
    {
     "name": "stdout",
     "output_type": "stream",
     "text": [
      "2.210385799407959\n",
      "0.029411232098937035\n",
      "[0.08763490617275238, 0.007908433675765991, 0.11038058996200562, 0.17412692308425903, 0.15179194509983063, 0.03671661391854286, 0.2931576073169708, 0.14578700065612793, 0.04523949697613716, 0.1909833699464798, 0.32022279500961304, 0.2204337865114212, 0.17241880297660828, 0.16147546470165253, 0.35879528522491455, 0.0829722136259079, 0.05500449240207672, 0.3192843794822693, 0.2622835040092468, 0.08249656856060028, 0.1611534208059311, 0.1149730235338211, 0.1725166141986847, 0.33343321084976196, 0.12334668636322021, 0.0007190704345703125, 0.06960080564022064, 0.24254071712493896, 0.004564601927995682, 0.2607922852039337, 0.026458989828824997, 0.013488024473190308, 0.09436482191085815, 0.22171565890312195, 0.06804652512073517, 0.02175752818584442, 0.11568853259086609, 0.08252842724323273, 0.18603958189487457, 0.1645369678735733, 0.06631053984165192, 0.0052661895751953125, 0.06827469170093536, 0.04876882582902908, 0.14714516699314117, 0.13905520737171173, 0.024709895253181458, 0.06146163120865822, 0.17604008316993713, 0.014136437326669693, 0.18040722608566284, 0.24222011864185333, 0.07406598329544067, 0.14394459128379822, 0.027976851910352707, 0.18101024627685547, 0.1415480673313141, 0.14767460525035858, 0.10797010362148285, 0.08571255207061768, 0.32201480865478516, 0.16366635262966156, 0.0366663783788681, 0.10753463208675385, 0.10552486777305603, 0.09180556237697601, 0.03299805521965027, 0.2127825766801834, 0.1847350150346756, 0.06864170730113983, 0.10330326855182648, 0.17680010199546814, 0.0943634957075119, 0.002804908901453018, 0.14501313865184784, 0.43171238899230957, 0.15315720438957214, 0.250632643699646, 0.27332544326782227, 0.10917149484157562, 0.14097477495670319, 0.19971434772014618, 0.30291783809661865, 0.29517319798469543, 0.1265784502029419, 0.027981877326965332, 0.15780696272850037, 0.27009671926498413, 0.13083556294441223, 0.2792488932609558, 0.12114982306957245, 0.28237342834472656, 0.12319110333919525, 0.02566339075565338, 0.14097760617733002, 0.024041008204221725, 0.31108152866363525, 0.20542018115520477, 0.37001681327819824, 0.03684204816818237, 0.01569683849811554, 0.16113781929016113, 0.10335579514503479, 0.17695929110050201, 0.025541190057992935, 0.044998813420534134, 0.006361529231071472, 0.12705110013484955, 0.23941220343112946, 0.1004004180431366, 0.11772938072681427, 0.22395962476730347, 0.12794949114322662, 0.032833948731422424, 0.15307503938674927, 0.21407955884933472, 0.318331241607666, 0.05689387395977974, 0.20965233445167542, 0.259875625371933, 0.23117858171463013, 0.07051722705364227, 0.08074595034122467, 0.07579818367958069, 0.05731997266411781, 0.2051316797733307, 0.2745731472969055, 0.0019275583326816559]\n"
     ]
    }
   ],
   "source": [
    "print(extrinsic_loss)\n",
    "print(intrinsic_loss)\n",
    "# print(extrinsic_reward)\n",
    "print(intrinsic_reward)"
   ]
  },
  {
   "cell_type": "code",
   "execution_count": 28,
   "metadata": {},
   "outputs": [],
   "source": [
    "import matplotlib.pyplot as plt\n",
    "def plot_list(list1,list2,label_1,label_2):\n",
    "    plt.plot(list1,label=label_1,color=\"blue\")\n",
    "    plt.plot(list2,label=label_2,color=\"red\")\n",
    "    plt.show()"
   ]
  },
  {
   "cell_type": "code",
   "execution_count": 29,
   "metadata": {},
   "outputs": [
    {
     "data": {
      "image/png": "[encoded data removed]",
      "text/plain": [
       "<Figure size 432x288 with 1 Axes>"
      ]
     },
     "metadata": {
      "needs_background": "light"
     },
     "output_type": "display_data"
    }
   ],
   "source": [
    "import numpy as np\n",
    "\n",
    "reward_cat=np.vstack((np.add(extrinsic_reward,intrinsic_reward).tolist(),-relax_energy.squeeze(-1).numpy()))\n",
    "reward_cat=reward_cat[:,np.argsort(reward_cat[1,:])]\n",
    "plot_list(reward_cat[1,:].tolist(),reward_cat[0,:].tolist(),\"real_energy\",\"predicted_reward\")"
   ]
  },
  {
   "cell_type": "code",
   "execution_count": 30,
   "metadata": {},
   "outputs": [
    {
     "data": {
      "image/png": "[encoded data removed]",
      "text/plain": [
       "<Figure size 432x288 with 1 Axes>"
      ]
     },
     "metadata": {
      "needs_background": "light"
     },
     "output_type": "display_data"
    }
   ],
   "source": [
    "dis=np.add(relax_energy.squeeze(-1).tolist(),extrinsic_reward).tolist()\n",
    "dis_cat=np.vstack((dis,intrinsic_reward))\n",
    "dis_cat=dis_cat[:,np.argsort(dis_cat[0,:])]\n",
    "plot_list(dis_cat[0].tolist(),dis_cat[1].tolist(),\"dis\",\"in\")"
   ]
  },
  {
   "cell_type": "markdown",
   "metadata": {},
   "source": [
    "## 对于 Sampler 的优化"
   ]
  },
  {
   "cell_type": "code",
   "execution_count": 36,
   "metadata": {},
   "outputs": [],
   "source": [
    "import torch\n",
    "from bfgs_relax import batch_compute\n",
    "import numpy as np\n",
    "\n",
    "class Sampler():\n",
    "    def __init__(self,num_atoms,pos_scale,threshold):\n",
    "        self.num_atoms=num_atoms\n",
    "        self.pos_scale=pos_scale\n",
    "        self.threshold=threshold\n",
    "    \n",
    "    def single_sample(self):\n",
    "        pos=torch.zeros(self.num_atoms,3)\n",
    "        for i in range(self.num_atoms):\n",
    "            # new_pos=torch.rand(3)*2*self.pos_scale-self.pos_scale\n",
    "            # if_continue=False\n",
    "            # for j in range(i):\n",
    "            #     distance=torch.norm(new_pos-pos[j],p=2)\n",
    "            #     if distance<self.threshold:\n",
    "            #         if_continue=True\n",
    "            #         break\n",
    "            if_continue=True\n",
    "            while if_continue:\n",
    "                new_pos=torch.rand(3)*2*self.pos_scale-self.pos_scale\n",
    "                if_continue=False\n",
    "                for j in range(i):\n",
    "                    distance=torch.norm(new_pos-pos[j],p=2)\n",
    "                    if distance<self.threshold:\n",
    "                        if_continue=True\n",
    "                        break\n",
    "            pos[i,:]=new_pos\n",
    "        return pos\n",
    "\n",
    "    def batch_sample(self,batch_size):\n",
    "        conforms=torch.zeros(batch_size,self.num_atoms,3)\n",
    "        for i in range(batch_size):\n",
    "            conforms[i,:,:]=self.single_sample()\n",
    "            # print(\"sampled \"+str(i)+\"th\")\n",
    "        return conforms,batch_size\n",
    "\n"
   ]
  },
  {
   "cell_type": "code",
   "execution_count": 40,
   "metadata": {},
   "outputs": [
    {
     "name": "stdout",
     "output_type": "stream",
     "text": [
      "-76.83455412870273\n"
     ]
    }
   ],
   "source": [
    "sampler=Sampler(60,3,1)\n",
    "conforms,sampled_batch_size=sampler.batch_sample(200)\n",
    "relax_energy=batch_compute(conforms,sampled_batch_size)\n",
    "print(np.min(relax_energy).item())"
   ]
  },
  {
   "cell_type": "code",
   "execution_count": 14,
   "metadata": {},
   "outputs": [
    {
     "name": "stdout",
     "output_type": "stream",
     "text": [
      "tensor([0.8910, 0.3788, 0.8308])\n",
      "tensor([0., 0., 0.])\n",
      "tensor(1.2757)\n"
     ]
    }
   ],
   "source": [
    "new_pos=torch.rand(3)*2\n",
    "print(new_pos)\n",
    "\n",
    "pos=torch.zeros(5,3)\n",
    "print(pos[1])\n",
    "\n",
    "distance=torch.norm(new_pos-pos[1],p=2)\n",
    "print(distance)"
   ]
  },
  {
   "cell_type": "markdown",
   "metadata": {},
   "source": [
    "## 检查 graph_utils 里面的 edge_index"
   ]
  },
  {
   "cell_type": "code",
   "execution_count": 5,
   "metadata": {},
   "outputs": [
    {
     "name": "stdout",
     "output_type": "stream",
     "text": [
      "tensor([[ 0,  0,  0,  0,  1,  1,  1,  1,  2,  2,  2,  2,  3,  3,  3,  3,  4,  4,\n",
      "          4,  4,  5,  5,  5,  5,  6,  6,  6,  6,  7,  7,  7,  7,  8,  8,  8,  8,\n",
      "          9,  9,  9,  9, 10, 10, 10, 10, 11, 11, 11, 11, 12, 12, 12, 12, 13, 13,\n",
      "         13, 13, 14, 14, 14, 14, 15, 15, 15, 15, 16, 16, 16, 16, 17, 17, 17, 17,\n",
      "         18, 18, 18, 18, 19, 19, 19, 19, 20, 20, 20, 20, 21, 21, 21, 21, 22, 22,\n",
      "         22, 22, 23, 23, 23, 23, 24, 24, 24, 24],\n",
      "        [ 1,  2,  3,  4,  0,  2,  3,  4,  0,  1,  3,  4,  0,  1,  2,  4,  0,  1,\n",
      "          2,  3,  6,  7,  8,  9,  5,  7,  8,  9,  5,  6,  8,  9,  5,  6,  7,  9,\n",
      "          5,  6,  7,  8, 11, 12, 13, 14, 10, 12, 13, 14, 10, 11, 13, 14, 10, 11,\n",
      "         12, 14, 10, 11, 12, 13, 16, 17, 18, 19, 15, 17, 18, 19, 15, 16, 18, 19,\n",
      "         15, 16, 17, 19, 15, 16, 17, 18, 21, 22, 23, 24, 20, 22, 23, 24, 20, 21,\n",
      "         23, 24, 20, 21, 22, 24, 20, 21, 22, 23]])\n",
      "tensor([0.8412, 0.4149, 1.0461, 0.9463, 0.8412, 0.8642, 0.7003, 0.5845, 0.4149,\n",
      "        0.8642, 0.8532, 0.6952, 1.0461, 0.7003, 0.8532, 0.5601, 0.9463, 0.5845,\n",
      "        0.6952, 0.5601, 0.8508, 0.8871, 0.5498, 0.2409, 0.8508, 0.7865, 0.8822,\n",
      "        0.7092, 0.8871, 0.7865, 0.5533, 0.8444, 0.5498, 0.8822, 0.5533, 0.4840,\n",
      "        0.2409, 0.7092, 0.8444, 0.4840, 0.6331, 0.3285, 0.5029, 0.8337, 0.6331,\n",
      "        0.3588, 0.5508, 0.4334, 0.3285, 0.3588, 0.5430, 0.6645, 0.5029, 0.5508,\n",
      "        0.5430, 0.4789, 0.8337, 0.4334, 0.6645, 0.4789, 0.8120, 0.6610, 0.7964,\n",
      "        0.4347, 0.8120, 0.3043, 0.2532, 0.4824, 0.6610, 0.3043, 0.3167, 0.4427,\n",
      "        0.7964, 0.2532, 0.3167, 0.4114, 0.4347, 0.4824, 0.4427, 0.4114, 0.7011,\n",
      "        1.1024, 0.2514, 1.0592, 0.7011, 0.7798, 0.7304, 0.5843, 1.1024, 0.7798,\n",
      "        0.9621, 0.3197, 0.2514, 0.7304, 0.9621, 0.9452, 1.0592, 0.5843, 0.3197,\n",
      "        0.9452])\n",
      "tensor([[0.8412, 0.4149, 1.0461, 0.9463],\n",
      "        [0.8412, 0.8642, 0.7003, 0.5845],\n",
      "        [0.4149, 0.8642, 0.8532, 0.6952],\n",
      "        [1.0461, 0.7003, 0.8532, 0.5601],\n",
      "        [0.9463, 0.5845, 0.6952, 0.5601],\n",
      "        [0.8508, 0.8871, 0.5498, 0.2409],\n",
      "        [0.8508, 0.7865, 0.8822, 0.7092],\n",
      "        [0.8871, 0.7865, 0.5533, 0.8444],\n",
      "        [0.5498, 0.8822, 0.5533, 0.4840],\n",
      "        [0.2409, 0.7092, 0.8444, 0.4840],\n",
      "        [0.6331, 0.3285, 0.5029, 0.8337],\n",
      "        [0.6331, 0.3588, 0.5508, 0.4334],\n",
      "        [0.3285, 0.3588, 0.5430, 0.6645],\n",
      "        [0.5029, 0.5508, 0.5430, 0.4789],\n",
      "        [0.8337, 0.4334, 0.6645, 0.4789],\n",
      "        [0.8120, 0.6610, 0.7964, 0.4347],\n",
      "        [0.8120, 0.3043, 0.2532, 0.4824],\n",
      "        [0.6610, 0.3043, 0.3167, 0.4427],\n",
      "        [0.7964, 0.2532, 0.3167, 0.4114],\n",
      "        [0.4347, 0.4824, 0.4427, 0.4114],\n",
      "        [0.7011, 1.1024, 0.2514, 1.0592],\n",
      "        [0.7011, 0.7798, 0.7304, 0.5843],\n",
      "        [1.1024, 0.7798, 0.9621, 0.3197],\n",
      "        [0.2514, 0.7304, 0.9621, 0.9452],\n",
      "        [1.0592, 0.5843, 0.3197, 0.9452]])\n"
     ]
    }
   ],
   "source": [
    "from utils.graph_utils import get_edges_batch\n",
    "import torch\n",
    "\n",
    "conforms=torch.rand(5,5,3)\n",
    "pos=conforms.view(-1,3)\n",
    "\n",
    "edge_index,_=get_edges_batch(conforms.shape[1],conforms.shape[0])\n",
    "print(edge_index)\n",
    "\n",
    "distance_edge=torch.norm(pos[edge_index[0]]-pos[edge_index[1]],p=2,dim=1)\n",
    "print(distance_edge)\n",
    "\n",
    "distance_node=torch.zeros((conforms.shape[0]*conforms.shape[1],conforms.shape[1]-1))\n",
    "for i in range(conforms.shape[0]*conforms.shape[1]):\n",
    "    distance_node[i]=torch.FloatTensor([distance_edge[j] for j in range((i*(conforms.shape[1]-1)),((i+1)*(conforms.shape[1]-1)))])\n",
    "\n",
    "print(distance_node)"
   ]
  },
  {
   "cell_type": "code",
   "execution_count": 1,
   "metadata": {},
   "outputs": [
    {
     "data": {
      "image/png": "[encoded data removed]",
      "text/plain": [
       "<Figure size 432x288 with 1 Axes>"
      ]
     },
     "metadata": {
      "needs_background": "light"
     },
     "output_type": "display_data"
    },
    {
     "data": {
      "image/png": "[encoded data removed]",
      "text/plain": [
       "<Figure size 432x288 with 1 Axes>"
      ]
     },
     "metadata": {
      "needs_background": "light"
     },
     "output_type": "display_data"
    }
   ],
   "source": [
    "import matplotlib.pyplot as plt\n",
    "import numpy as np\n",
    "\n",
    "energy=np.random.rand(5)\n",
    "extrinsic_rewards=np.random.rand(5).tolist()\n",
    "intrinsic_rewards=np.random.rand(5).tolist()\n",
    "\n",
    "plt.figure()\n",
    "plt.plot(energy.tolist(),label=\"real energy\")\n",
    "plt.plot(extrinsic_rewards,label=\"prediction\")\n",
    "plt.show()\n",
    "plt.figure()\n",
    "plt.plot(np.add((-energy).tolist(),extrinsic_rewards),label=\"real res\")\n",
    "plt.plot(intrinsic_rewards,label=\"prediction\")\n",
    "plt.show()"
   ]
  },
  {
   "cell_type": "code",
   "execution_count": null,
   "metadata": {},
   "outputs": [],
   "source": []
  }
 ],
 "metadata": {
  "kernelspec": {
   "display_name": "Python 3.8.13 ('crystal_generation')",
   "language": "python",
   "name": "python3"
  },
  "language_info": {
   "codemirror_mode": {
    "name": "ipython",
    "version": 3
   },
   "file_extension": ".py",
   "mimetype": "text/x-python",
   "name": "python",
   "nbconvert_exporter": "python",
   "pygments_lexer": "ipython3",
   "version": "3.8.13"
  },
  "orig_nbformat": 4,
  "vscode": {
   "interpreter": {
    "hash": "18557f2f25e71559d45ffb839f6c7c0ed492a9a6a7a00dd08c091d2c4b260e58"
   }
  }
 },
 "nbformat": 4,
 "nbformat_minor": 2
}
